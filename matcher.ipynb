{
 "cells": [
  {
   "cell_type": "code",
   "execution_count": 11,
   "metadata": {},
   "outputs": [],
   "source": [
    "\n",
    "class Matcher:\n",
    "    \"\"\"\n",
    "     Matcher has 6 functions which are used to \n",
    "     create , ammend , cacel , match and query the data\n",
    "    \n",
    "    Attributes:\n",
    "        Arguments: a dictionary data type, this is used to hash the order in terms of their order ID\n",
    "        \n",
    "    \"\"\"\n",
    "    buyBook = {}\n",
    "    sellBook= {}\n",
    "    def connect(s):\n",
    "        s = input().split(\",\")\n",
    "        Command=s[0]\n",
    "        print(Command)\n",
    "        if(Command=='N'):\n",
    "            Matcher.new(s)\n",
    "        elif(Command=='A'):\n",
    "            Matcher.ammend(s)\n",
    "        elif(Command=='X'):\n",
    "            Matcher.cancel(s)\n",
    "        elif(Command=='M'):\n",
    "            Matcher.match()\n",
    "                \n",
    "    def new(s):\n",
    "        book={}\n",
    "        try:\n",
    "            book[\"Order_ID\"]=s[1]\n",
    "            book[\"time_stamp\"]=s[2]\n",
    "            book[\"symbol\"]=s[3]\n",
    "            book[\"order-type\"]=s[4]\n",
    "            book[\"side\"]=s[5]\n",
    "            book[\"price\"]=s[6]\n",
    "            book[\"quantity\"]=s[7]\n",
    "        except InputValueError('','n',book[\"Order_ID\"]) as e:\n",
    "            print(e.message)\n",
    "        except InputLengthError('','n',book[\"Order_ID\"]) as e:\n",
    "            print(e.message)\n",
    "        if(s[5]=='B'):\n",
    "            Matcher.buyBook[s[1]]=book\n",
    "            print(Matcher.buyBook)\n",
    "        else:\n",
    "            Matcher.sellBook[s[1]]=book\n",
    "            print(Matcher.sellBook)\n",
    "    \n",
    "    def ammend(s):\n",
    "        book={}\n",
    "        try:\n",
    "            book[\"Order_ID\"]=s[1]\n",
    "            book[\"time_stamp\"]=s[2]\n",
    "            book[\"symbol\"]=s[3]\n",
    "            book[\"order-type\"]=s[4]\n",
    "            book[\"side\"]=s[5]\n",
    "            book[\"price\"]=s[6]\n",
    "            book[\"quantity\"]=s[7]\n",
    "        except InputValueError('','a',book[\"Order_ID\"]) as e:\n",
    "            print(e.message)\n",
    "        except InputLengthError('','a',book[\"Order_ID\"]) as e:\n",
    "            print(e.message)\n",
    "        if(s[1] in Matcher.buyBook.keys()):\n",
    "            Matcher.buyBook[s[1]]=book\n",
    "            print(Matcher.buyBook)\n",
    "        elif(s[1] in Matcher.sellBook.keys()):\n",
    "            Matcher.sellBook[s[1]]=book\n",
    "            print(Matcher.sellBook)\n",
    "        else:\n",
    "            print(\"Key Not Found\")\n",
    "            \n",
    "    def cancel(s):\n",
    "        if(s[1] in Matcher.buyBook.keys()):\n",
    "            del Matcher.buyBook[s[1]]\n",
    "            print(Matcher.buyBook)\n",
    "        elif(s[1] in Matcher.sellBook.keys()):\n",
    "            del Matcher.sellBook[s[1]]\n",
    "            print(Matcher.sellBook)\n",
    "        else:\n",
    "            print(\"Key not Found\")\n",
    "            \n",
    "    \n",
    "\n",
    "    def match(s):\n",
    "        for i in Matcher.buyBook.keys():\n",
    "            if(Matcher.buyBook[i]['time_stamp']<s[1]):\n",
    "                print(Matcher.buyBook[i])\n",
    "\n",
    "        \n",
    "\n"
   ]
  },
  {
   "cell_type": "code",
   "execution_count": 12,
   "metadata": {
    "collapsed": true
   },
   "outputs": [],
   "source": [
    "# class InputValueError is derived from super class ValueError\n",
    "class InputValueError(ValueError):\n",
    "    \"\"\"Exception raised for errors in the input.\n",
    "    Attributes:\n",
    "        command_type -- ordertype of the order that elicits an error\n",
    "        orderid -- orderid of the order that elicits an error\n",
    "        msg -- explanation of the error\n",
    "    \"\"\"\n",
    "         # Constructor or Initializer\n",
    "    def __init__(self, message, command_type, order_id, *args):\n",
    "        self.message = message\n",
    "        self.order_id = order_id\n",
    "        self.command_type = command_type \n",
    "        code = 0\n",
    "        super(InputValueError, self).__init__(message, command_type, orderid, *args) \n",
    "        if command_type == 'N':\n",
    "            code = 303\n",
    "            self.message = self.message = \" - \".join([self.orderid,\"Reject\",code,\"Invalid order details\"])\n",
    "        elif command_type == 'A':\n",
    "            code = 101\n",
    "            self.message = \" - \".join([self.orderid,\"AmendReject\",code,\"invalid amendment details\"])\n",
    "        elif command_type == 'M':\n",
    "            code = 202\n",
    "            self.message = \" - \".join([self.orderid,\"MatchReject\",code,\"invalid match details\"])\n",
    "        elif command_type == 'Q':\n",
    "            code = 101\n",
    "            self.message = \" - \".join([self.orderid,\"AmendReject\",code,\"invalid amendment details\"])\n",
    "            \n",
    "        elif command_type == 'C':\n",
    "            code = 404\n",
    "            self.message = \" - \".join([self.orderid,\"CancelReject\",code,\"Order does not exist\"])\n",
    "        else:\n",
    "            self.message = \" - \".join([self.orderid,\"\",\"invalid amendment details\"])\n",
    "\n",
    "# class InputLengthError is derived from super class IndexError\n",
    "class InputLengthError(IndexError):\n",
    "    \"\"\"Exception raised for errors in the input.\n",
    "    Attributes:\n",
    "        command_type -- ordertype of the order that elicits an error\n",
    "        orderid -- orderid of the order that elicits an error\n",
    "        msg -- explanation of the error\n",
    "    \"\"\"\n",
    "    \n",
    "    def __init__(self, message, command_type, orderid, *args):\n",
    "        self.message = message\n",
    "        self.order_id = order_id\n",
    "        self.command_type = command_type \n",
    "        code = 0\n",
    "        super(MyAppValueError, self).__init__(message, command_type, orderid, *args)\n",
    "        if command_type == 'N':\n",
    "            code = 303\n",
    "            self.message = self.message = \" - \".join([self.orderid,\"Reject\",code,\"Invalid order details\"])\n",
    "        elif command_type == 'A':\n",
    "            code = 101\n",
    "            self.message = \" - \".join([self.orderid,\"AmendReject\",code,\"invalid amendment details\"])\n",
    "        elif command_type == 'M':\n",
    "            code = 202\n",
    "            self.message = \" - \".join([self.orderid,\"MatchReject\",code,\"invalid match details\"])\n",
    "        elif command_type == 'Q':\n",
    "            code = 101\n",
    "            self.message = \" - \".join([self.orderid,\"AmendReject\",code,\"invalid amendment details\"])\n",
    "            \n",
    "        elif command_type == 'C':\n",
    "            code = 404\n",
    "            self.message = \" - \".join([self.orderid,\"CancelReject\",code,\"Order does not exist\"])\n",
    "        else:\n",
    "            self.message = \" - \".join([self.orderid,\"\",\"invalid amendment details\"])"
   ]
  },
  {
   "cell_type": "code",
   "execution_count": 13,
   "metadata": {},
   "outputs": [
    {
     "ename": "AttributeError",
     "evalue": "type object 'Matcher' has no attribute 'Mat'",
     "output_type": "error",
     "traceback": [
      "\u001b[0;31m---------------------------------------------------------------------------\u001b[0m",
      "\u001b[0;31mAttributeError\u001b[0m                            Traceback (most recent call last)",
      "\u001b[0;32m<ipython-input-13-027a94e781d5>\u001b[0m in \u001b[0;36m<module>\u001b[0;34m()\u001b[0m\n\u001b[0;32m----> 1\u001b[0;31m \u001b[0mMatcher\u001b[0m\u001b[1;33m.\u001b[0m\u001b[0mMat\u001b[0m\u001b[1;33m(\u001b[0m\u001b[1;33m)\u001b[0m\u001b[1;33m\u001b[0m\u001b[0m\n\u001b[0m",
      "\u001b[0;31mAttributeError\u001b[0m: type object 'Matcher' has no attribute 'Mat'"
     ]
    }
   ],
   "source": [
    "Matcher.Mat()"
   ]
  },
  {
   "cell_type": "code",
   "execution_count": 120,
   "metadata": {},
   "outputs": [
    {
     "name": "stdout",
     "output_type": "stream",
     "text": [
      "M\n",
      "M\n",
      "0000002\n",
      "0000002\n"
     ]
    }
   ],
   "source": [
    "Matcher.Mat()\n"
   ]
  },
  {
   "cell_type": "code",
   "execution_count": null,
   "metadata": {
    "collapsed": true
   },
   "outputs": [],
   "source": []
  },
  {
   "cell_type": "code",
   "execution_count": null,
   "metadata": {
    "collapsed": true
   },
   "outputs": [],
   "source": []
  }
 ],
 "metadata": {
  "kernelspec": {
   "display_name": "Python 3",
   "language": "python",
   "name": "python3"
  },
  "language_info": {
   "codemirror_mode": {
    "name": "ipython",
    "version": 3
   },
   "file_extension": ".py",
   "mimetype": "text/x-python",
   "name": "python",
   "nbconvert_exporter": "python",
   "pygments_lexer": "ipython3",
   "version": "3.6.0"
  }
 },
 "nbformat": 4,
 "nbformat_minor": 2
}
