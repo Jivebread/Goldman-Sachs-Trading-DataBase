{
 "cells": [
  {
   "cell_type": "code",
   "execution_count": 199,
   "metadata": {},
   "outputs": [],
   "source": [
    "class Matcher:\n",
    "    \"\"\"\n",
    "     Matcher has 6 functions which are used to \n",
    "     create , ammend , cacel , match and query the data\n",
    "    \n",
    "    Attributes:\n",
    "        buyBook: a dictionary data type, this is used to hash buy order in terms of their order ID\n",
    "        sellBook:a dictionary data type, this is used to hash sell order in terms of their order ID\n",
    "        \n",
    "    \"\"\"\n",
    "    buyBook = {}\n",
    "    sellBook= {}\n",
    "    \"\"\"\n",
    "    Mat function takes the action from the command list and sends it to designated functions\n",
    "         Attributes: \n",
    "                    \n",
    "    \"\"\"\n",
    "    def Mat():\n",
    "        s = input().split(\",\")\n",
    "        Command=s[0]\n",
    "        print(Command)\n",
    "        if(Command=='N'):\n",
    "            Matcher.new(s)\n",
    "        elif(Command=='A'):\n",
    "            Matcher.ammend(s)\n",
    "        elif(Command=='X'):\n",
    "            Matcher.cancel(s)\n",
    "        elif(Command=='M'):\n",
    "            Matcher.match(s)\n",
    "    \n",
    "    \"\"\"\n",
    "    This function creates new \n",
    "    \"\"\"\n",
    "    \n",
    "    def new(s):\n",
    "        book={}\n",
    "        book[\"Order_ID\"]=s[1]\n",
    "        book[\"time_stamp\"]=s[2]\n",
    "        book[\"symbol\"]=s[3]\n",
    "        book[\"order-type\"]=s[4]\n",
    "        book[\"side\"]=s[5]\n",
    "        book[\"price\"]=s[6]\n",
    "        book[\"quantity\"]=s[7]\n",
    "        if(s[5]=='B'):\n",
    "            Matcher.buyBook[s[1]]=book\n",
    "            print(Matcher.buyBook)\n",
    "        else:\n",
    "            Matcher.sellBook[s[1]]=book\n",
    "            print(Matcher.sellBook)\n",
    "    \n",
    "    def ammend(s):\n",
    "        book={}\n",
    "        book[\"Order_ID\"]=s[1]\n",
    "        book[\"time_stamp\"]=s[2]\n",
    "        book[\"symbol\"]=s[3]\n",
    "        book[\"order-type\"]=s[4]\n",
    "        book[\"side\"]=s[5]\n",
    "        book[\"price\"]=s[6]\n",
    "        book[\"quantity\"]=s[7]\n",
    "        if(s[1] in Matcher.buyBook.keys()):\n",
    "            Matcher.buyBook[s[1]]=book\n",
    "            print(Matcher.buyBook)\n",
    "        elif(s[1] in Matcher.sellBook.keys()):\n",
    "            Matcher.sellBook[s[1]]=book\n",
    "            print(Matcher.sellBook)\n",
    "        else:\n",
    "            print(\"Key Not Found\")\n",
    "            \n",
    "    def cancel(s):\n",
    "        if(s[1] in Matcher.buyBook.keys()):\n",
    "            del Matcher.buyBook[s[1]]\n",
    "            print(Matcher.buyBook)\n",
    "        elif(s[1] in Matcher.sellBook.keys()):\n",
    "            del Matcher.sellBook[s[1]]\n",
    "            print(Matcher.sellBook)\n",
    "        else:\n",
    "            print(\"Key not Found\")\n",
    "            \n",
    "    \n",
    "\n",
    "    def match(s):\n",
    "        sBook=[]\n",
    "        bBook=[]\n",
    "        print(\"sasas\")\n",
    "        for i in Matcher.buyBook.keys():\n",
    "            if(Matcher.buyBook[i]['time_stamp']<=s[1]):\n",
    "                bBook.append(i)\n",
    "        for j in Matcher.sellBook.keys():\n",
    "            if(Matcher.sellBook[j]['time_stamp']<=s[1]):\n",
    "                sBook.append(j)\n",
    "        for i in bBook:\n",
    "            for j in sBook:\n",
    "                if((Matcher.buyBook[i]['price']==Matcher.sellBook[j]['price']) and (Matcher.buyBook[i]['symbol']==Matcher.sellBook[j]['symbol'])):\n",
    "                    quantity_matched=(min(Matcher.buyBook[i]['quantity'],Matcher.sellBook[j]['quantity']))\n",
    "                    print(Matcher.buyBook[i]['symbol']+\"|\"+Matcher.buyBook[i]['Order_ID']+\",\"+Matcher.buyBook[i]['order-type']+\",\"+quantity_matched+\",\"\n",
    "                         +Matcher.buyBook[i]['price']+\"|\"+Matcher.sellBook[j]['price']+\",\"+quantity_matched+\",\"+Matcher.sellBook[j]['order-type']+\",\"+Matcher.sellBook[j]['Order_ID'])\n",
    "                    Matcher.buyBook[i]['quantity']=str(abs(int(Matcher.buyBook[i]['quantity'])-int(quantity_matched)))\n",
    "                    Matcher.sellBook[j]['quantity']=str(abs(int(Matcher.sellBook[i]['quantity'])-int(quantity_matched)))\n",
    "                   \n",
    "                    \n",
    "    \n",
    "                \n",
    "\n",
    "        \n",
    "\n"
   ]
  },
  {
   "cell_type": "code",
   "execution_count": null,
   "metadata": {
    "collapsed": true
   },
   "outputs": [],
   "source": []
  },
  {
   "cell_type": "code",
   "execution_count": 202,
   "metadata": {},
   "outputs": [
    {
     "name": "stdout",
     "output_type": "stream",
     "text": [
      "\n",
      "\n"
     ]
    }
   ],
   "source": [
    "Matcher.Mat()"
   ]
  },
  {
   "cell_type": "code",
   "execution_count": 203,
   "metadata": {},
   "outputs": [
    {
     "name": "stdout",
     "output_type": "stream",
     "text": [
      "M,0000003\n",
      "M\n",
      "sasas\n",
      "XYZ|2,L,100,104.53|104.53,100,L,2\n"
     ]
    }
   ],
   "source": [
    "Matcher.Mat()\n"
   ]
  },
  {
   "cell_type": "code",
   "execution_count": null,
   "metadata": {
    "collapsed": true
   },
   "outputs": [],
   "source": []
  },
  {
   "cell_type": "code",
   "execution_count": null,
   "metadata": {
    "collapsed": true
   },
   "outputs": [],
   "source": []
  }
 ],
 "metadata": {
  "kernelspec": {
   "display_name": "Python 3",
   "language": "python",
   "name": "python3"
  },
  "language_info": {
   "codemirror_mode": {
    "name": "ipython",
    "version": 3
   },
   "file_extension": ".py",
   "mimetype": "text/x-python",
   "name": "python",
   "nbconvert_exporter": "python",
   "pygments_lexer": "ipython3",
   "version": "3.6.3"
  }
 },
 "nbformat": 4,
 "nbformat_minor": 2
}
