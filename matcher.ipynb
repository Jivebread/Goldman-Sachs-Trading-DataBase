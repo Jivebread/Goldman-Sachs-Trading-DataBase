{
 "cells": [
  {
   "cell_type": "code",
   "execution_count": 121,
   "metadata": {},
   "outputs": [],
   "source": [
    "class Matcher:\n",
    "    \"\"\"\n",
    "     Matcher has 6 functions which are used to \n",
    "     create , ammend , cacel , match and query the data\n",
    "    \n",
    "    Attributes:\n",
    "        Arguments: a dictionary data type, this is used to hash the order in terms of their order ID\n",
    "        \n",
    "    \"\"\"\n",
    "    buyBook = {}\n",
    "    sellBook= {}\n",
    "    def Mat():\n",
    "        s = input().split(\",\")\n",
    "        Command=s[0]\n",
    "        print(Command)\n",
    "        if(Command=='N'):\n",
    "            Matcher.new(s)\n",
    "        elif(Command=='A'):\n",
    "            Matcher.ammend(s)\n",
    "        elif(Command=='X'):\n",
    "            Matcher.cancel(s)\n",
    "        elif(Command=='M'):\n",
    "            Matcher.match()\n",
    "                \n",
    "    def new(s):\n",
    "        book={}\n",
    "        book[\"Order_ID\"]=s[1]\n",
    "        book[\"time_stamp\"]=s[2]\n",
    "        book[\"symbol\"]=s[3]\n",
    "        book[\"order-type\"]=s[4]\n",
    "        book[\"side\"]=s[5]\n",
    "        book[\"price\"]=s[6]\n",
    "        book[\"quantity\"]=s[7]\n",
    "        if(s[5]=='B'):\n",
    "            Matcher.buyBook[s[1]]=book\n",
    "            print(Matcher.buyBook)\n",
    "        else:\n",
    "            Matcher.sellBook[s[1]]=book\n",
    "            print(Matcher.sellBook)\n",
    "    \n",
    "    def ammend(s):\n",
    "        book={}\n",
    "        book[\"Order_ID\"]=s[1]\n",
    "        book[\"time_stamp\"]=s[2]\n",
    "        book[\"symbol\"]=s[3]\n",
    "        book[\"order-type\"]=s[4]\n",
    "        book[\"side\"]=s[5]\n",
    "        book[\"price\"]=s[6]\n",
    "        book[\"quantity\"]=s[7]\n",
    "        if(s[1] in Matcher.buyBook.keys()):\n",
    "            Matcher.buyBook[s[1]]=book\n",
    "            print(Matcher.buyBook)\n",
    "        elif(s[1] in Matcher.sellBook.keys()):\n",
    "            Matcher.sellBook[s[1]]=book\n",
    "            print(Matcher.sellBook)\n",
    "        else:\n",
    "            print(\"Key Not Found\")\n",
    "            \n",
    "    def cancel(s):\n",
    "        if(s[1] in Matcher.buyBook.keys()):\n",
    "            del Matcher.buyBook[s[1]]\n",
    "            print(Matcher.buyBook)\n",
    "        elif(s[1] in Matcher.sellBook.keys()):\n",
    "            del Matcher.sellBook[s[1]]\n",
    "            print(Matcher.sellBook)\n",
    "        else:\n",
    "            print(\"Key not Found\")\n",
    "            \n",
    "    \n",
    "\n",
    "    def match(s):\n",
    "        for i in Matcher.buyBook.keys():\n",
    "            if(Matcher.buyBook[i]['time_stamp']<s[1]):\n",
    "                print(Matcher.buyBook[i])\n",
    "\n",
    "        \n",
    "\n"
   ]
  },
  {
   "cell_type": "code",
   "execution_count": null,
   "metadata": {
    "collapsed": true
   },
   "outputs": [],
   "source": []
  },
  {
   "cell_type": "code",
   "execution_count": 119,
   "metadata": {},
   "outputs": [
    {
     "name": "stdout",
     "output_type": "stream",
     "text": [
      "N,3,0000002,XYZ,L,B,104.53,100.3\n",
      "N\n",
      "{'2': {'Order_ID': '2', 'time_stamp': '0000002', 'symbol': 'XYZ', 'order-type': 'L', 'side': 'B', 'price': '104.53', 'quantity': '100'}, '3': {'Order_ID': '3', 'time_stamp': '0000002', 'symbol': 'XYZ', 'order-type': 'L', 'side': 'B', 'price': '104.53', 'quantity': '100.3'}}\n"
     ]
    }
   ],
   "source": [
    "Matcher.Mat()"
   ]
  },
  {
   "cell_type": "code",
   "execution_count": 120,
   "metadata": {},
   "outputs": [
    {
     "name": "stdout",
     "output_type": "stream",
     "text": [
      "M\n",
      "M\n",
      "0000002\n",
      "0000002\n"
     ]
    }
   ],
   "source": [
    "Matcher.Mat()\n"
   ]
  },
  {
   "cell_type": "code",
   "execution_count": null,
   "metadata": {
    "collapsed": true
   },
   "outputs": [],
   "source": []
  },
  {
   "cell_type": "code",
   "execution_count": null,
   "metadata": {
    "collapsed": true
   },
   "outputs": [],
   "source": []
  }
 ],
 "metadata": {
  "kernelspec": {
   "display_name": "Python 3",
   "language": "python",
   "name": "python3"
  },
  "language_info": {
   "codemirror_mode": {
    "name": "ipython",
    "version": 3
   },
   "file_extension": ".py",
   "mimetype": "text/x-python",
   "name": "python",
   "nbconvert_exporter": "python",
   "pygments_lexer": "ipython3",
   "version": "3.6.3"
  }
 },
 "nbformat": 4,
 "nbformat_minor": 2
}
