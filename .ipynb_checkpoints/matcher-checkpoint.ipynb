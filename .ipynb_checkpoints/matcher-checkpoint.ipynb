{
 "cells": [
  {
   "cell_type": "code",
   "execution_count": null,
   "metadata": {
    "collapsed": true
   },
   "outputs": [],
   "source": [
    "class Matcher:\n",
    "    arguments = {}\n",
    "    def Match():\n",
    "        s = input().split(\",\")\n",
    "        Command=s[0]\n",
    "        print(Command)\n",
    "        if(Command=='N'):\n",
    "            Matcher.new(s)\n",
    "        elif(Command=='A'):\n",
    "            Matcher.ammend(s)\n",
    "                \n",
    "    def new(s):\n",
    "        Matcher.arguments[s[1]]=s[1:]\n",
    "        print(Matcher.arguments)\n",
    "    \n",
    "    def ammend(s):\n",
    "        if(s[1] in Matcher.arguments.keys()):\n",
    "            Matcher.arguments[s[1]]=s[1:]\n",
    "            print(Matcher.arguments)\n",
    "        else:\n",
    "            print(\"Key not found\")\n",
    "\n"
   ]
  },
  {
   "cell_type": "code",
   "execution_count": null,
   "metadata": {
    "collapsed": true
   },
   "outputs": [],
   "source": [
    "Matcher.Match()"
   ]
  },
  {
   "cell_type": "code",
   "execution_count": 32,
   "metadata": {},
   "outputs": [
    {
     "name": "stdout",
     "output_type": "stream",
     "text": [
      "N,2,0000002,XYZ,L,B,104.53,100\n",
      "N\n",
      "BEw\n",
      "[['N', '2', '0000002', 'XYZ', 'L', 'B', '104.53', '100']]\n"
     ]
    }
   ],
   "source": [
    "Matcher.Match()\n"
   ]
  },
  {
   "cell_type": "code",
   "execution_count": null,
   "metadata": {
    "collapsed": true
   },
   "outputs": [],
   "source": []
  }
 ],
 "metadata": {
  "kernelspec": {
   "display_name": "Python 3",
   "language": "python",
   "name": "python3"
  },
  "language_info": {
   "codemirror_mode": {
    "name": "ipython",
    "version": 3
   },
   "file_extension": ".py",
   "mimetype": "text/x-python",
   "name": "python",
   "nbconvert_exporter": "python",
   "pygments_lexer": "ipython3",
   "version": "3.6.3"
  }
 },
 "nbformat": 4,
 "nbformat_minor": 2
}
