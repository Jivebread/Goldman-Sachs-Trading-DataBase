{
 "cells": [
  {
   "cell_type": "code",
   "execution_count": null,
   "metadata": {
    "collapsed": true
   },
   "outputs": [],
   "source": [
    "class Matcher:\n",
    "    arguments = []\n",
    "    def Match():\n",
    "        s = input().split(\",\")\n",
    "        Command=s[0]\n",
    "        ID=s[1]\n",
    "        print(Command)\n",
    "        if(Command=='N'):\n",
    "                new(s,ID)\n",
    "                \n",
    "    def new(s,ID):\n",
    "        print(\"BEw\")\n",
    "        function = \"insert\"\n",
    "        \n",
    "        numbers = int(ID)\n",
    "        entry=s[0:]\n",
    "        numbers.append(entry)\n",
    "        if function != \"print\":\n",
    "            function += \"(\" +\",\".join(numbers)+\")\"\n",
    "            eval(\"arguments.\"+function)\n",
    "            print(arguments)\n",
    "        else:\n",
    "            print(arguments)\n",
    "    \n",
    "    def Ammend(s):\n",
    "        function =\"\"\n",
    "        \n",
    "            \n",
    "            \n",
    "    "
   ]
  },
  {
   "cell_type": "code",
   "execution_count": null,
   "metadata": {
    "collapsed": true
   },
   "outputs": [],
   "source": [
    "Matcher.Match()"
   ]
  },
  {
   "cell_type": "code",
   "execution_count": 8,
   "metadata": {},
   "outputs": [
    {
     "name": "stdout",
     "output_type": "stream",
     "text": [
      "print\n"
     ]
    }
   ],
   "source": [
    "Matcher.Match()\n"
   ]
  },
  {
   "cell_type": "code",
   "execution_count": null,
   "metadata": {
    "collapsed": true
   },
   "outputs": [],
   "source": []
  }
 ],
 "metadata": {
  "kernelspec": {
   "display_name": "Python 3",
   "language": "python",
   "name": "python3"
  },
  "language_info": {
   "codemirror_mode": {
    "name": "ipython",
    "version": 3
   },
   "file_extension": ".py",
   "mimetype": "text/x-python",
   "name": "python",
   "nbconvert_exporter": "python",
   "pygments_lexer": "ipython3",
   "version": "3.6.3"
  }
 },
 "nbformat": 4,
 "nbformat_minor": 2
}
