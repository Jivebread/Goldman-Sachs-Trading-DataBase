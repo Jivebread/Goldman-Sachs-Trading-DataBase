{
 "cells": [
  {
   "cell_type": "code",
   "execution_count": 12,
   "metadata": {},
   "outputs": [],
   "source": [
    "# class InputValueError is derived from super class ValueError\n",
    "class InputValueError(ValueError):\n",
    "    \"\"\"Exception raised for errors in the input.\n",
    "    Attributes:\n",
    "        msg -- explanation of the error\n",
    "    \"\"\"\n",
    "         # Constructor or Initializer\n",
    "    def __init__(self, message, command_type, order_id, *args):\n",
    "        self.command_type = command_type \n",
    "        code = 0\n",
    "        super(InputValueError, self).__init__(message, command_type, orderid, *args) \n",
    "        if command_type == 'N':\n",
    "            code = 303\n",
    "            self.message = self.message = \" - \".join([self.orderid,\"Reject\",code,\"Invalid order details\"])\n",
    "        elif command_type == 'A':\n",
    "            code = 101\n",
    "            self.message = \" - \".join([self.orderid,\"AmendReject\",code,\"invalid amendment details\"])\n",
    "        elif command_type == 'M':\n",
    "            code = 202\n",
    "            self.message = \" - \".join([self.orderid,\"MatchReject\",code,\"invalid match details\"])\n",
    "        elif command_type == 'Q':\n",
    "            code = 101\n",
    "            self.message = \" - \".join([self.orderid,\"AmendReject\",code,\"invalid amendment details\"])\n",
    "            \n",
    "        elif command_type == 'C':\n",
    "            code = 404\n",
    "            self.message = \" - \".join([self.orderid,\"CancelReject\",code,\"Order does not exist\"])\n",
    "        else:\n",
    "            self.message = \" - \".join([self.orderid,\"\",\"invalid amendment details\"])\n",
    "\n",
    "# class InputLengthError is derived from super class IndexError\n",
    "class InputLengthError(IndexError):\n",
    "    \"\"\"Exception raised for not  in the input.\n",
    "    Attributes:\n",
    "        msg -- explanation of the error\n",
    "    \"\"\"\n",
    "    \n",
    "    def __init__(self, message, command_type, orderid, *args):\n",
    "        self.command_type = command_type \n",
    "        code = 0\n",
    "        super(MyAppValueError, self).__init__(message, command_type, orderid, *args)\n",
    "        if command_type == 'N':\n",
    "            code = 303\n",
    "            self.message = self.message = \" - \".join([self.orderid,\"Reject\",code,\"Invalid order details\"])\n",
    "        elif command_type == 'A':\n",
    "            code = 101\n",
    "            self.message = \" - \".join([self.orderid,\"AmendReject\",code,\"invalid amendment details\"])\n",
    "        elif command_type == 'M':\n",
    "            code = 202\n",
    "            self.message = \" - \".join([self.orderid,\"MatchReject\",code,\"invalid match details\"])\n",
    "        elif command_type == 'Q':\n",
    "            code = 101\n",
    "            self.message = \" - \".join([self.orderid,\"AmendReject\",code,\"invalid amendment details\"])\n",
    "            \n",
    "        elif command_type == 'C':\n",
    "            code = 404\n",
    "            self.message = \" - \".join([self.orderid,\"CancelReject\",code,\"Order does not exist\"])\n",
    "        else:\n",
    "            self.message = \" - \".join([self.orderid,\"\",\"invalid amendment details\"])"
   ]
  },
  {
   "cell_type": "code",
   "execution_count": 13,
   "metadata": {},
   "outputs": [
    {
     "data": {
      "text/plain": [
       "'3selforderid - AmendReject - 3 - invalid amendment details'"
      ]
     },
     "execution_count": 13,
     "metadata": {},
     "output_type": "execute_result"
    }
   ],
   "source": [
    "\" - \".join([\"3selforderid\",\"AmendReject\",\"3\",\"invalid amendment details\"])"
   ]
  },
  {
   "cell_type": "code",
   "execution_count": null,
   "metadata": {
    "collapsed": true
   },
   "outputs": [],
   "source": []
  }
 ],
 "metadata": {
  "kernelspec": {
   "display_name": "Python 3",
   "language": "python",
   "name": "python3"
  },
  "language_info": {
   "codemirror_mode": {
    "name": "ipython",
    "version": 3
   },
   "file_extension": ".py",
   "mimetype": "text/x-python",
   "name": "python",
   "nbconvert_exporter": "python",
   "pygments_lexer": "ipython3",
   "version": "3.6.0"
  }
 },
 "nbformat": 4,
 "nbformat_minor": 2
}
