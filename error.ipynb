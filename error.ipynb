{
 "cells": [
  {
   "cell_type": "code",
   "execution_count": 4,
   "metadata": {},
   "outputs": [],
   "source": [
    "# class MyError is derived from super class Exception\n",
    "class InputValueError(ValueError):\n",
    "    \"\"\"Exception raised for errors in the input.\n",
    "    Attributes:\n",
    "        msg -- explanation of the error\n",
    "    \"\"\"\n",
    "         # Constructor or Initializer\n",
    "    def __init__(self, message, command_type, *args):\n",
    "        self.command_type = command_type \n",
    "    \n",
    "class InputLengthError(IndexError):\n",
    "    \"\"\"Exception raised for not  in the input.\n",
    "    Attributes:\n",
    "        msg -- explanation of the error\n",
    "    \"\"\"\n",
    "    \n",
    "    def __init__(self, message, command_type, *args):\n",
    "        self.command_type = command_type "
   ]
  },
  {
   "cell_type": "code",
   "execution_count": null,
   "metadata": {
    "collapsed": true
   },
   "outputs": [],
   "source": []
  }
 ],
 "metadata": {
  "kernelspec": {
   "display_name": "Python 3",
   "language": "python",
   "name": "python3"
  },
  "language_info": {
   "codemirror_mode": {
    "name": "ipython",
    "version": 3
   },
   "file_extension": ".py",
   "mimetype": "text/x-python",
   "name": "python",
   "nbconvert_exporter": "python",
   "pygments_lexer": "ipython3",
   "version": "3.6.0"
  }
 },
 "nbformat": 4,
 "nbformat_minor": 2
}
